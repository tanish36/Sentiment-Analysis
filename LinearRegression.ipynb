{
  "nbformat": 4,
  "nbformat_minor": 0,
  "metadata": {
    "colab": {
      "name": " LinearRegression.ipynb",
      "provenance": [],
      "collapsed_sections": [],
      "include_colab_link": true
    },
    "kernelspec": {
      "name": "python3",
      "display_name": "Python 3"
    }
  },
  "cells": [
    {
      "cell_type": "markdown",
      "metadata": {
        "id": "view-in-github",
        "colab_type": "text"
      },
      "source": [
        "<a href=\"https://colab.research.google.com/github/tanish36/Tensorflow-Projects/blob/master/LinearRegression.ipynb\" target=\"_parent\"><img src=\"https://colab.research.google.com/assets/colab-badge.svg\" alt=\"Open In Colab\"/></a>"
      ]
    },
    {
      "cell_type": "code",
      "metadata": {
        "id": "ubRS6OK5lNR1",
        "colab_type": "code",
        "colab": {}
      },
      "source": [
        "%tensorflow_version 2.x\n",
        "import tensorflow as tf\n",
        "from tensorflow import keras\n",
        "import pandas as pd"
      ],
      "execution_count": 0,
      "outputs": []
    },
    {
      "cell_type": "markdown",
      "metadata": {
        "id": "rGDOvAi662Wk",
        "colab_type": "text"
      },
      "source": [
        "# Load Data"
      ]
    },
    {
      "cell_type": "code",
      "metadata": {
        "id": "ffP747NJ3e4E",
        "colab_type": "code",
        "outputId": "6737b999-2790-4ce4-95ea-8ab68f2b209b",
        "colab": {
          "base_uri": "https://localhost:8080/",
          "height": 34
        }
      },
      "source": [
        "!pip install wget\n",
        "import wget"
      ],
      "execution_count": 0,
      "outputs": [
        {
          "output_type": "stream",
          "text": [
            "Requirement already satisfied: wget in /usr/local/lib/python3.6/dist-packages (3.2)\n"
          ],
          "name": "stdout"
        }
      ]
    },
    {
      "cell_type": "code",
      "metadata": {
        "id": "F8I9Fhq7-aAn",
        "colab_type": "code",
        "colab": {}
      },
      "source": [
        "# the file is stored at book's site\n",
        "url = 'http://drive.google.com/u/0/uc?id=1qI0kNw_lDWNkx6lJYbsN52BlnNsaP09p&export=download'"
      ],
      "execution_count": 0,
      "outputs": []
    },
    {
      "cell_type": "code",
      "metadata": {
        "id": "W9aA5qxK-QLf",
        "colab_type": "code",
        "outputId": "2a8b903d-7545-4a29-9db0-acddf13ef353",
        "colab": {
          "base_uri": "https://localhost:8080/",
          "height": 34
        }
      },
      "source": [
        "wget.download(url,'student.csv')"
      ],
      "execution_count": 0,
      "outputs": [
        {
          "output_type": "execute_result",
          "data": {
            "text/plain": [
              "'student (1).csv'"
            ]
          },
          "metadata": {
            "tags": []
          },
          "execution_count": 10
        }
      ]
    },
    {
      "cell_type": "markdown",
      "metadata": {
        "id": "o02NgOuv6-wg",
        "colab_type": "text"
      },
      "source": [
        "# Prepare Data"
      ]
    },
    {
      "cell_type": "code",
      "metadata": {
        "id": "jirRXL5x-eXc",
        "colab_type": "code",
        "outputId": "09d00023-e095-426b-9fd5-a1109a57358a",
        "colab": {
          "base_uri": "https://localhost:8080/",
          "height": 353
        }
      },
      "source": [
        "# Load data into pandas\n",
        "import pandas as pd\n",
        "df=pd.read_csv('/content/student.csv')\n",
        "df.head(10)"
      ],
      "execution_count": 0,
      "outputs": [
        {
          "output_type": "execute_result",
          "data": {
            "text/html": [
              "<div>\n",
              "<style scoped>\n",
              "    .dataframe tbody tr th:only-of-type {\n",
              "        vertical-align: middle;\n",
              "    }\n",
              "\n",
              "    .dataframe tbody tr th {\n",
              "        vertical-align: top;\n",
              "    }\n",
              "\n",
              "    .dataframe thead th {\n",
              "        text-align: right;\n",
              "    }\n",
              "</style>\n",
              "<table border=\"1\" class=\"dataframe\">\n",
              "  <thead>\n",
              "    <tr style=\"text-align: right;\">\n",
              "      <th></th>\n",
              "      <th>SAT</th>\n",
              "      <th>GPA</th>\n",
              "    </tr>\n",
              "  </thead>\n",
              "  <tbody>\n",
              "    <tr>\n",
              "      <th>0</th>\n",
              "      <td>1714</td>\n",
              "      <td>2.40</td>\n",
              "    </tr>\n",
              "    <tr>\n",
              "      <th>1</th>\n",
              "      <td>1664</td>\n",
              "      <td>2.52</td>\n",
              "    </tr>\n",
              "    <tr>\n",
              "      <th>2</th>\n",
              "      <td>1760</td>\n",
              "      <td>2.54</td>\n",
              "    </tr>\n",
              "    <tr>\n",
              "      <th>3</th>\n",
              "      <td>1685</td>\n",
              "      <td>2.74</td>\n",
              "    </tr>\n",
              "    <tr>\n",
              "      <th>4</th>\n",
              "      <td>1693</td>\n",
              "      <td>2.83</td>\n",
              "    </tr>\n",
              "    <tr>\n",
              "      <th>5</th>\n",
              "      <td>1670</td>\n",
              "      <td>2.91</td>\n",
              "    </tr>\n",
              "    <tr>\n",
              "      <th>6</th>\n",
              "      <td>1764</td>\n",
              "      <td>3.00</td>\n",
              "    </tr>\n",
              "    <tr>\n",
              "      <th>7</th>\n",
              "      <td>1764</td>\n",
              "      <td>3.00</td>\n",
              "    </tr>\n",
              "    <tr>\n",
              "      <th>8</th>\n",
              "      <td>1792</td>\n",
              "      <td>3.01</td>\n",
              "    </tr>\n",
              "    <tr>\n",
              "      <th>9</th>\n",
              "      <td>1850</td>\n",
              "      <td>3.01</td>\n",
              "    </tr>\n",
              "  </tbody>\n",
              "</table>\n",
              "</div>"
            ],
            "text/plain": [
              "    SAT   GPA\n",
              "0  1714  2.40\n",
              "1  1664  2.52\n",
              "2  1760  2.54\n",
              "3  1685  2.74\n",
              "4  1693  2.83\n",
              "5  1670  2.91\n",
              "6  1764  3.00\n",
              "7  1764  3.00\n",
              "8  1792  3.01\n",
              "9  1850  3.01"
            ]
          },
          "metadata": {
            "tags": []
          },
          "execution_count": 11
        }
      ]
    },
    {
      "cell_type": "code",
      "metadata": {
        "id": "q8zmw7f92Krz",
        "colab_type": "code",
        "colab": {}
      },
      "source": [
        "# Extract features and label\n",
        "dataset = df.values\n",
        "X = dataset[:,1]\n",
        "y = dataset[:,0]"
      ],
      "execution_count": 0,
      "outputs": []
    },
    {
      "cell_type": "markdown",
      "metadata": {
        "id": "-8-WqFjW7Cqv",
        "colab_type": "text"
      },
      "source": [
        "# Model Definition/Training"
      ]
    },
    {
      "cell_type": "code",
      "metadata": {
        "id": "XDsG-RZ1dzpG",
        "colab_type": "code",
        "outputId": "1349ee2a-aa03-4e2e-998a-6066fdccc5c3",
        "colab": {
          "base_uri": "https://localhost:8080/",
          "height": 530
        }
      },
      "source": [
        "model = tf.keras.Sequential([keras.layers.Dense(units=1, input_shape=[1])])\n",
        "model.compile(optimizer='sgd', loss='mean_squared_error')\n",
        "model.fit(X, y, epochs=15)"
      ],
      "execution_count": 0,
      "outputs": [
        {
          "output_type": "stream",
          "text": [
            "Epoch 1/15\n",
            "3/3 [==============================] - 0s 3ms/step - loss: 2167086.7500\n",
            "Epoch 2/15\n",
            "3/3 [==============================] - 0s 2ms/step - loss: 413479.5312\n",
            "Epoch 3/15\n",
            "3/3 [==============================] - 0s 2ms/step - loss: 88842.9297\n",
            "Epoch 4/15\n",
            "3/3 [==============================] - 0s 2ms/step - loss: 26532.8535\n",
            "Epoch 5/15\n",
            "3/3 [==============================] - 0s 2ms/step - loss: 13850.4990\n",
            "Epoch 6/15\n",
            "3/3 [==============================] - 0s 2ms/step - loss: 12082.9561\n",
            "Epoch 7/15\n",
            "3/3 [==============================] - 0s 1ms/step - loss: 10830.8398\n",
            "Epoch 8/15\n",
            "3/3 [==============================] - 0s 1ms/step - loss: 11413.1846\n",
            "Epoch 9/15\n",
            "3/3 [==============================] - 0s 1ms/step - loss: 11689.4424\n",
            "Epoch 10/15\n",
            "3/3 [==============================] - 0s 2ms/step - loss: 10919.8369\n",
            "Epoch 11/15\n",
            "3/3 [==============================] - 0s 2ms/step - loss: 12214.2344\n",
            "Epoch 12/15\n",
            "3/3 [==============================] - 0s 2ms/step - loss: 11328.9014\n",
            "Epoch 13/15\n",
            "3/3 [==============================] - 0s 2ms/step - loss: 11040.7588\n",
            "Epoch 14/15\n",
            "3/3 [==============================] - 0s 2ms/step - loss: 10892.7568\n",
            "Epoch 15/15\n",
            "3/3 [==============================] - 0s 1ms/step - loss: 11050.7021\n"
          ],
          "name": "stdout"
        },
        {
          "output_type": "execute_result",
          "data": {
            "text/plain": [
              "<tensorflow.python.keras.callbacks.History at 0x7f8a5cb1f240>"
            ]
          },
          "metadata": {
            "tags": []
          },
          "execution_count": 13
        }
      ]
    },
    {
      "cell_type": "markdown",
      "metadata": {
        "id": "5xE1EhOa7INQ",
        "colab_type": "text"
      },
      "source": [
        "# Predict Unseen Data"
      ]
    },
    {
      "cell_type": "code",
      "metadata": {
        "id": "aiSKl2iDfc4D",
        "colab_type": "code",
        "outputId": "0b12d560-212c-42b8-9170-c552902d97ad",
        "colab": {
          "base_uri": "https://localhost:8080/",
          "height": 50
        }
      },
      "source": [
        "result = model.predict([5.0])\n",
        "print(\"Expected SAT score for GPA 5.0: {:.0f}\".format(result[0][0]))\n",
        "result = model.predict([3.2])\n",
        "print(\"Expected SAT score for GPA 3.2: {:.0f}\".format(result[0][0]))"
      ],
      "execution_count": 0,
      "outputs": [
        {
          "output_type": "stream",
          "text": [
            "Expected SAT score for GPA 5.0: 2678\n",
            "Expected SAT score for GPA 3.2: 1770\n"
          ],
          "name": "stdout"
        }
      ]
    }
  ]
}